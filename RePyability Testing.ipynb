{
 "cells": [
  {
   "cell_type": "markdown",
   "metadata": {
    "jupyter": {
     "outputs_hidden": false
    }
   },
   "source": [
    "# RePyability"
   ]
  },
  {
   "cell_type": "markdown",
   "metadata": {},
   "source": [
    "The aim of this module is to be a quick and easy way of doing reliability analysis with python. At the time of creation there was no other tool, so thought it should be done!. If there are other tools out there, let the developers know so that we can combine our efforts.\n",
    "\n",
    "The package is designed to be used with the (reliafy-)surpyval package (and to be pyisson) modules as their inputs."
   ]
  },
  {
   "cell_type": "code",
   "execution_count": 1,
   "metadata": {},
   "outputs": [],
   "source": [
    "import repyability as rp\n",
    "#import surpyval as surv"
   ]
  },
  {
   "cell_type": "code",
   "execution_count": 2,
   "metadata": {},
   "outputs": [],
   "source": [
    "x = [1, 2, 3, 3, 5, 6, 7, 8]\n",
    "n = [1, 1, 2, 1, 2, 1, 1, 1]\n",
    "c = [0, 0, 1, 0, 0, 1, 0, 0]"
   ]
  }
 ],
 "metadata": {
  "kernelspec": {
   "display_name": "Python 3",
   "language": "python",
   "name": "python3"
  },
  "language_info": {
   "codemirror_mode": {
    "name": "ipython",
    "version": 3
   },
   "file_extension": ".py",
   "mimetype": "text/x-python",
   "name": "python",
   "nbconvert_exporter": "python",
   "pygments_lexer": "ipython3",
   "version": "3.7.4"
  }
 },
 "nbformat": 4,
 "nbformat_minor": 4
}
